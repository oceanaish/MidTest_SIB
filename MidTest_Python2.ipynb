{
  "nbformat": 4,
  "nbformat_minor": 0,
  "metadata": {
    "colab": {
      "provenance": []
    },
    "kernelspec": {
      "name": "python3",
      "display_name": "Python 3"
    },
    "language_info": {
      "name": "python"
    }
  },
  "cells": [
    {
      "cell_type": "code",
      "execution_count": null,
      "metadata": {
        "id": "wukuYavFjexQ"
      },
      "outputs": [],
      "source": [
        "def decode(code, positions):\n",
        "    decoded_chars = [''] * len(code)\n",
        "\n",
        "    for pos, char in zip(positions, code):\n",
        "        index = int(pos) - 1\n",
        "        decoded_chars[index] = char\n",
        "\n",
        "    decoded_msg = ''.join(decoded_chars)\n",
        "\n",
        "    return decoded_msg\n",
        "\n",
        "code_name = \"gadis\"\n",
        "positions_angka = \"34215\"\n",
        "hasil_decoded = decode(code_name, positions_angka)\n",
        "print(hasil_decoded)"
      ]
    }
  ]
}