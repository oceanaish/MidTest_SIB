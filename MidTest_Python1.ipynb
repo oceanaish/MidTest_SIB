{
  "nbformat": 4,
  "nbformat_minor": 0,
  "metadata": {
    "colab": {
      "provenance": []
    },
    "kernelspec": {
      "name": "python3",
      "display_name": "Python 3"
    },
    "language_info": {
      "name": "python"
    }
  },
  "cells": [
    {
      "cell_type": "code",
      "execution_count": 16,
      "metadata": {
        "id": "tWG9l2SSP38g",
        "colab": {
          "base_uri": "https://localhost:8080/"
        },
        "outputId": "11e7b25d-4886-4ccc-a32d-02552343ce11"
      },
      "outputs": [
        {
          "output_type": "stream",
          "name": "stdout",
          "text": [
            "2,7,6,0\n"
          ]
        }
      ],
      "source": [
        "def add_str(inputstr):\n",
        "    a = inputstr.replace(\" \", \"\").split(\",\")\n",
        "    a = [int(num) for num in a]\n",
        "\n",
        "    nomor = 0\n",
        "    for num in a:\n",
        "        nomor = nomor * 10 + num\n",
        "\n",
        "    nomor += 1\n",
        "\n",
        "    new_str = str(nomor)\n",
        "\n",
        "    if new_str[0] == '0':\n",
        "        new_str= new_str[1:]\n",
        "\n",
        "    gabung = \",\".join(new_str)\n",
        "\n",
        "    return gabung\n",
        "\n",
        "masukan = \"2,7,5,9\"\n",
        "hasil = add_str(masukan)\n",
        "print(hasil)"
      ]
    }
  ]
}